{
 "cells": [
  {
   "cell_type": "markdown",
   "metadata": {},
   "source": [
    "## Importing libraries"
   ]
  },
  {
   "cell_type": "code",
   "execution_count": 1,
   "metadata": {},
   "outputs": [
    {
     "name": "stdout",
     "output_type": "stream",
     "text": [
      "./kaggle/input\\nlp-getting-started\\sample_submission.csv\n",
      "./kaggle/input\\nlp-getting-started\\test.csv\n",
      "./kaggle/input\\nlp-getting-started\\train.csv\n"
     ]
    }
   ],
   "source": [
    "import numpy as np # linear algebra\n",
    "import pandas as pd # data processing, CSV file I/O (e.g. pd.read_csv)\n",
    "pd.set_option('display.max_columns', None)\n",
    "\n",
    "import spacy # for NLP\n",
    "\n",
    "# Input data files are available in the read-only \"../input/\" directory\n",
    "# For example, running this (by clicking run or pressing Shift+Enter) will list all files under the input directory\n",
    "\n",
    "import os\n",
    "for dirname, _, filenames in os.walk('./kaggle/input'):\n",
    "    for filename in filenames:\n",
    "        print(os.path.join(dirname, filename))\n",
    "        \n",
    "#Loading train and test_data\n",
    "data_train = pd.read_csv('./kaggle/input/nlp-getting-started/train.csv')\n",
    "data_test = pd.read_csv('./kaggle/input/nlp-getting-started/test.csv')"
   ]
  },
  {
   "cell_type": "markdown",
   "metadata": {},
   "source": [
    "## Loading and preparing spaCy"
   ]
  },
  {
   "cell_type": "code",
   "execution_count": 2,
   "metadata": {},
   "outputs": [],
   "source": [
    "# Load the large model to get the vectors\n",
    "nlp = spacy.load('en_core_web_sm')"
   ]
  },
  {
   "cell_type": "code",
   "execution_count": 3,
   "metadata": {},
   "outputs": [],
   "source": [
    "# We just want the vectors so we can turn off other models in the pipeline\n",
    "with nlp.disable_pipes():\n",
    "    vectors = np.array([nlp(tweet.text).vector for idx, tweet in data_train.iterrows()])\n",
    "np.save('vectors', vectors)"
   ]
  },
  {
   "cell_type": "code",
   "execution_count": 4,
   "metadata": {},
   "outputs": [],
   "source": [
    "# Loading all document vectors from file\n",
    "#\n",
    "# positve, neutral and negative reviews\n",
    "#vectors = np.load('../input/vectors/vectors.npy')\n",
    "vectors = np.load('vectors.npy')"
   ]
  },
  {
   "cell_type": "markdown",
   "metadata": {},
   "source": [
    "## Preparing train and test set"
   ]
  },
  {
   "cell_type": "code",
   "execution_count": 5,
   "metadata": {},
   "outputs": [],
   "source": [
    "#splitting dataset into test and train set\n",
    "from sklearn.model_selection import train_test_split\n",
    "\n",
    "#selecting all data\n",
    "X_train, X_test, y_train, y_test = train_test_split(vectors, data_train['target'], \n",
    "                                                    test_size=0.2, random_state=1)"
   ]
  },
  {
   "cell_type": "markdown",
   "metadata": {},
   "source": [
    "## Creating and training model"
   ]
  },
  {
   "cell_type": "code",
   "execution_count": 9,
   "metadata": {},
   "outputs": [
    {
     "name": "stdout",
     "output_type": "stream",
     "text": [
      "Model test accuracy: 69.796%\n"
     ]
    }
   ],
   "source": [
    "# Loading linear support vector classifier model\n",
    "from sklearn.svm import LinearSVC\n",
    "\n",
    "# Create the LinearSVC model\n",
    "model = LinearSVC(random_state=1, dual=False)\n",
    "# Fit the model\n",
    "model.fit(X_train, y_train)\n",
    "\n",
    "# Uncomment and run to see model accuracy\n",
    "print(f'Model test accuracy: {model.score(X_test, y_test)*100:.3f}%')"
   ]
  },
  {
   "cell_type": "markdown",
   "metadata": {},
   "source": [
    "## Inference"
   ]
  },
  {
   "cell_type": "code",
   "execution_count": null,
   "metadata": {},
   "outputs": [],
   "source": [
    "with nlp.disable_pipes():\n",
    "    X_pred = np.array([nlp(tweet.text).vector for idx, tweet in data_test.iterrows()])"
   ]
  },
  {
   "cell_type": "code",
   "execution_count": 13,
   "metadata": {},
   "outputs": [
    {
     "data": {
      "text/plain": [
       "array([ 3.5384741e-01,  1.3103898e-01,  1.3325547e-01, -1.5263441e-01,\n",
       "        3.6845079e-01,  4.9783829e-01, -6.8746567e-01,  2.3306982e-01,\n",
       "        4.5698449e-01, -2.0546322e-01,  1.0385293e-01, -2.5905675e-01,\n",
       "       -2.3411386e-01, -2.1376111e-01, -3.4225371e-01,  2.6347888e-01,\n",
       "        5.2725994e-03,  4.2969033e-01, -3.8597286e-01, -1.6924636e-01,\n",
       "       -1.7830350e-02, -4.5583185e-02,  3.4655929e-03, -1.3000704e-01,\n",
       "       -2.2900403e-01, -2.1419326e-02,  7.8776620e-02, -4.9910143e-01,\n",
       "        1.9604719e-01,  1.8149000e-01, -3.2385007e-01, -4.8005643e-01,\n",
       "        1.9166338e-01, -2.6615423e-01,  5.3868771e-01,  1.2195438e-01,\n",
       "       -1.4638263e-01,  1.3867442e-01, -7.1487509e-02,  8.2690859e-01,\n",
       "       -7.1790695e-02, -2.8501031e-01, -3.2691631e-02,  2.7336660e-01,\n",
       "       -1.0919121e-01, -4.6529338e-01, -1.6219446e-01, -6.2568523e-02,\n",
       "        2.4953723e-02, -2.0393701e-01,  3.3288276e-01, -9.9698700e-02,\n",
       "        4.6223402e-04,  5.2925211e-01,  4.3075585e-01,  8.6472034e-02,\n",
       "       -3.7903431e-01, -3.9048407e-02,  2.0411508e-01,  7.4262924e-02,\n",
       "        6.4676702e-03,  1.1921499e-01, -2.7163985e-01, -1.5435950e-01,\n",
       "        2.3750274e-01, -2.4366499e-01, -5.6688613e-01, -3.6222139e-01,\n",
       "        3.5430697e-01,  3.2232862e-02,  3.4112766e-02,  2.8182164e-01,\n",
       "        3.1955719e-01, -1.8311930e-01,  2.9149467e-02, -8.8086082e-03,\n",
       "       -3.2196721e-01, -7.7817582e-02, -1.0746009e-01, -5.4691297e-01,\n",
       "       -1.2871633e-01, -3.5185490e-02,  2.9097417e-01,  1.7223936e-01,\n",
       "        1.9287372e-01, -2.3875961e-02, -1.3325042e-01, -2.7291313e-01,\n",
       "        1.5321155e-01,  1.6505858e-02, -1.9555050e-01, -7.1190894e-02,\n",
       "        1.4568417e-01,  2.4206448e-01,  2.6283053e-01,  9.1136612e-02],\n",
       "      dtype=float32)"
      ]
     },
     "execution_count": 13,
     "metadata": {},
     "output_type": "execute_result"
    }
   ],
   "source": [
    "X_pred[0]"
   ]
  },
  {
   "cell_type": "code",
   "execution_count": 16,
   "metadata": {},
   "outputs": [],
   "source": [
    "predictions = model.predict(X_pred)"
   ]
  },
  {
   "cell_type": "markdown",
   "metadata": {},
   "source": [
    "## submitting predictions"
   ]
  },
  {
   "cell_type": "code",
   "execution_count": 17,
   "metadata": {},
   "outputs": [
    {
     "name": "stdout",
     "output_type": "stream",
     "text": [
      "Your submission was successfully saved!\n"
     ]
    }
   ],
   "source": [
    "Id = np.arange(len(predictions))\n",
    "#SalePrice = np.array(predictions)\n",
    "new_submission = pd.DataFrame({'Id': Id, 'target': predictions})\n",
    "new_submission.to_csv('my_submission.csv', index=False)\n",
    "print(\"Your submission was successfully saved!\")"
   ]
  },
  {
   "cell_type": "code",
   "execution_count": 18,
   "metadata": {},
   "outputs": [
    {
     "data": {
      "text/html": [
       "<div>\n",
       "<style scoped>\n",
       "    .dataframe tbody tr th:only-of-type {\n",
       "        vertical-align: middle;\n",
       "    }\n",
       "\n",
       "    .dataframe tbody tr th {\n",
       "        vertical-align: top;\n",
       "    }\n",
       "\n",
       "    .dataframe thead th {\n",
       "        text-align: right;\n",
       "    }\n",
       "</style>\n",
       "<table border=\"1\" class=\"dataframe\">\n",
       "  <thead>\n",
       "    <tr style=\"text-align: right;\">\n",
       "      <th></th>\n",
       "      <th>Id</th>\n",
       "      <th>target</th>\n",
       "    </tr>\n",
       "  </thead>\n",
       "  <tbody>\n",
       "    <tr>\n",
       "      <th>0</th>\n",
       "      <td>0</td>\n",
       "      <td>0</td>\n",
       "    </tr>\n",
       "    <tr>\n",
       "      <th>1</th>\n",
       "      <td>1</td>\n",
       "      <td>1</td>\n",
       "    </tr>\n",
       "    <tr>\n",
       "      <th>2</th>\n",
       "      <td>2</td>\n",
       "      <td>0</td>\n",
       "    </tr>\n",
       "    <tr>\n",
       "      <th>3</th>\n",
       "      <td>3</td>\n",
       "      <td>1</td>\n",
       "    </tr>\n",
       "    <tr>\n",
       "      <th>4</th>\n",
       "      <td>4</td>\n",
       "      <td>1</td>\n",
       "    </tr>\n",
       "    <tr>\n",
       "      <th>...</th>\n",
       "      <td>...</td>\n",
       "      <td>...</td>\n",
       "    </tr>\n",
       "    <tr>\n",
       "      <th>3258</th>\n",
       "      <td>3258</td>\n",
       "      <td>0</td>\n",
       "    </tr>\n",
       "    <tr>\n",
       "      <th>3259</th>\n",
       "      <td>3259</td>\n",
       "      <td>0</td>\n",
       "    </tr>\n",
       "    <tr>\n",
       "      <th>3260</th>\n",
       "      <td>3260</td>\n",
       "      <td>1</td>\n",
       "    </tr>\n",
       "    <tr>\n",
       "      <th>3261</th>\n",
       "      <td>3261</td>\n",
       "      <td>0</td>\n",
       "    </tr>\n",
       "    <tr>\n",
       "      <th>3262</th>\n",
       "      <td>3262</td>\n",
       "      <td>0</td>\n",
       "    </tr>\n",
       "  </tbody>\n",
       "</table>\n",
       "<p>3263 rows × 2 columns</p>\n",
       "</div>"
      ],
      "text/plain": [
       "        Id  target\n",
       "0        0       0\n",
       "1        1       1\n",
       "2        2       0\n",
       "3        3       1\n",
       "4        4       1\n",
       "...    ...     ...\n",
       "3258  3258       0\n",
       "3259  3259       0\n",
       "3260  3260       1\n",
       "3261  3261       0\n",
       "3262  3262       0\n",
       "\n",
       "[3263 rows x 2 columns]"
      ]
     },
     "execution_count": 18,
     "metadata": {},
     "output_type": "execute_result"
    }
   ],
   "source": [
    "new_submission"
   ]
  },
  {
   "cell_type": "code",
   "execution_count": null,
   "metadata": {},
   "outputs": [],
   "source": []
  }
 ],
 "metadata": {
  "kernelspec": {
   "display_name": "Python 3",
   "language": "python",
   "name": "python3"
  },
  "language_info": {
   "codemirror_mode": {
    "name": "ipython",
    "version": 3
   },
   "file_extension": ".py",
   "mimetype": "text/x-python",
   "name": "python",
   "nbconvert_exporter": "python",
   "pygments_lexer": "ipython3",
   "version": "3.7.7"
  }
 },
 "nbformat": 4,
 "nbformat_minor": 4
}
